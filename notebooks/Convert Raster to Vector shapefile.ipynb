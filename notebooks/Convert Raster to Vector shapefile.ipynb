{
 "cells": [
  {
   "cell_type": "code",
   "execution_count": 3,
   "id": "middle-mirror",
   "metadata": {},
   "outputs": [],
   "source": [
    "import numpy as np\n",
    "import fiona\n",
    "import osr\n",
    "import rasterio\n",
    "import rasterio.features\n",
    "from shapely.geometry import shape, mapping\n",
    "from shapely.geometry.multipolygon import MultiPolygon\n"
   ]
  },
  {
   "cell_type": "code",
   "execution_count": 4,
   "id": "express-connection",
   "metadata": {},
   "outputs": [
    {
     "name": "stdout",
     "output_type": "stream",
     "text": [
      "Loaded tif\n",
      "Set up schema\n",
      "Write out shapefile from tif\n",
      "Done!\n"
     ]
    }
   ],
   "source": [
    "# Read input band with Rasterio\n",
    "with rasterio.open('data/classified_result_195.tif') as src:\n",
    "    src_band = src.read(1)\n",
    "    # Keep track of unique pixel values in the input band\n",
    "    unique_values = np.unique(src_band)\n",
    "    # Polygonize with Rasterio. `shapes()` returns an iterable\n",
    "    # of (geom, value) as tuples\n",
    "    shapes = list(rasterio.features.shapes(src_band, transform=src.transform))\n",
    "\n",
    "print('Loaded tif')\n",
    "\n",
    "srs = osr.SpatialReference()      \n",
    "srs.SetFromUserInput(\"EPSG:2232\")  \n",
    "crs = srs.ExportToProj4()        \n",
    "\n",
    "print('Set up schema')\n",
    "shp_schema = {\n",
    "    'geometry': 'MultiPolygon',\n",
    "    'properties': {'pixelvalue': 'int'}\n",
    "}\n",
    "\n",
    "print('Write out shapefile from tif')\n",
    "# Convert tif to shapefile with pixel value as attribute field.\n",
    "with fiona.open('data/classified_result_195_poly.shp', 'w', 'ESRI Shapefile', shp_schema, crs=crs) as shp:\n",
    "    for pixel_value in unique_values:\n",
    "        polygons = [shape(geom) for geom, value in shapes\n",
    "                    if value == pixel_value]\n",
    "        multipolygon = MultiPolygon(polygons)\n",
    "        shp.write({\n",
    "            'geometry': mapping(multipolygon),\n",
    "            'properties': {'pixelvalue': int(pixel_value)}\n",
    "        })\n",
    "print('Done!')"
   ]
  },
  {
   "cell_type": "code",
   "execution_count": null,
   "id": "another-manufacturer",
   "metadata": {},
   "outputs": [],
   "source": []
  }
 ],
 "metadata": {
  "kernelspec": {
   "display_name": "Python 3",
   "language": "python",
   "name": "python3"
  },
  "language_info": {
   "codemirror_mode": {
    "name": "ipython",
    "version": 3
   },
   "file_extension": ".py",
   "mimetype": "text/x-python",
   "name": "python",
   "nbconvert_exporter": "python",
   "pygments_lexer": "ipython3",
   "version": "3.9.1"
  }
 },
 "nbformat": 4,
 "nbformat_minor": 5
}
