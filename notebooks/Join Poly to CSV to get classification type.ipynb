{
 "cells": [
  {
   "cell_type": "code",
   "execution_count": 7,
   "id": "affecting-update",
   "metadata": {},
   "outputs": [],
   "source": [
    "import numpy as np\n",
    "import geopandas as gpd\n",
    "import pandas as pd"
   ]
  },
  {
   "cell_type": "code",
   "execution_count": 8,
   "id": "rising-pixel",
   "metadata": {},
   "outputs": [],
   "source": [
    "#load shapefile and csv\n",
    "poly = gpd.read_file('data/classified_result_195_poly.shp')\n",
    "sheet = pd.read_csv('data/class_lookup_195.csv')"
   ]
  },
  {
   "cell_type": "code",
   "execution_count": 9,
   "id": "lightweight-yesterday",
   "metadata": {},
   "outputs": [],
   "source": [
    "poly = poly.rename(columns={'pixelvalue': 'id', 'geometry':'geometry'})"
   ]
  },
  {
   "cell_type": "code",
   "execution_count": 10,
   "id": "sealed-fleet",
   "metadata": {},
   "outputs": [],
   "source": [
    "poly = poly.merge(sheet, on='id')"
   ]
  },
  {
   "cell_type": "code",
   "execution_count": 11,
   "id": "supreme-burning",
   "metadata": {},
   "outputs": [],
   "source": [
    "poly.drop(columns=['id'], inplace=True)\n",
    "#del poly['id']\n",
    "#del poly['Unnamed: 0']\n",
    "poly.drop(columns=['Unnamed: 0'], inplace=True)\n",
    "#poly.drop(columns=['id'])"
   ]
  },
  {
   "cell_type": "code",
   "execution_count": 12,
   "id": "brave-synthetic",
   "metadata": {},
   "outputs": [],
   "source": [
    "exploded_poly = poly.explode()\n",
    "exploded_poly.to_file(\"data/195_poly_final.shp\")"
   ]
  },
  {
   "cell_type": "code",
   "execution_count": null,
   "id": "geographic-stable",
   "metadata": {},
   "outputs": [],
   "source": []
  }
 ],
 "metadata": {
  "kernelspec": {
   "display_name": "Python 3",
   "language": "python",
   "name": "python3"
  },
  "language_info": {
   "codemirror_mode": {
    "name": "ipython",
    "version": 3
   },
   "file_extension": ".py",
   "mimetype": "text/x-python",
   "name": "python",
   "nbconvert_exporter": "python",
   "pygments_lexer": "ipython3",
   "version": "3.9.1"
  }
 },
 "nbformat": 4,
 "nbformat_minor": 5
}
