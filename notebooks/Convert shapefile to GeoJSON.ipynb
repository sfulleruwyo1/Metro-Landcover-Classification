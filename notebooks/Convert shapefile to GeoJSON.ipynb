{
 "cells": [
  {
   "cell_type": "code",
   "execution_count": 1,
   "id": "registered-enzyme",
   "metadata": {},
   "outputs": [],
   "source": [
    "import numpy as np\n",
    "import geopandas as gpd\n",
    "import pandas as pd"
   ]
  },
  {
   "cell_type": "code",
   "execution_count": 2,
   "id": "normal-wireless",
   "metadata": {},
   "outputs": [],
   "source": [
    "#load shapefile\n",
    "poly = gpd.read_file('data/parcels.shp')"
   ]
  },
  {
   "cell_type": "code",
   "execution_count": 3,
   "id": "drawn-philippines",
   "metadata": {},
   "outputs": [],
   "source": [
    "poly_wgs84  = poly.to_crs(\"EPSG:4326\")"
   ]
  },
  {
   "cell_type": "code",
   "execution_count": 4,
   "id": "rental-disease",
   "metadata": {},
   "outputs": [],
   "source": [
    "poly_wgs84.to_file(\"data/parcels.json\", driver=\"GeoJSON\")"
   ]
  },
  {
   "cell_type": "code",
   "execution_count": null,
   "id": "digital-leather",
   "metadata": {},
   "outputs": [],
   "source": []
  }
 ],
 "metadata": {
  "kernelspec": {
   "display_name": "Python 3",
   "language": "python",
   "name": "python3"
  },
  "language_info": {
   "codemirror_mode": {
    "name": "ipython",
    "version": 3
   },
   "file_extension": ".py",
   "mimetype": "text/x-python",
   "name": "python",
   "nbconvert_exporter": "python",
   "pygments_lexer": "ipython3",
   "version": "3.9.1"
  }
 },
 "nbformat": 4,
 "nbformat_minor": 5
}
