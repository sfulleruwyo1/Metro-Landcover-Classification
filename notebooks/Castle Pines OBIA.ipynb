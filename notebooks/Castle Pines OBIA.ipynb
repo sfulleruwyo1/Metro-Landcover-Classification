{
 "cells": [
  {
   "cell_type": "code",
   "execution_count": 10,
   "metadata": {},
   "outputs": [],
   "source": [
    "import numpy as np\n",
    "import gdal\n",
    "import ogr\n",
    "from skimage import exposure\n",
    "from skimage.segmentation import quickshift\n",
    "from skimage.segmentation import slic\n",
    "import time\n",
    "import scipy\n",
    "#import geopandas as gpd\n",
    "import pandas as pd\n",
    "\n"
   ]
  },
  {
   "cell_type": "code",
   "execution_count": 23,
   "metadata": {},
   "outputs": [],
   "source": [
    "#Load Tiff\n",
    "naip_fn = 'data/S3E105.tif'"
   ]
  },
  {
   "cell_type": "code",
   "execution_count": 24,
   "metadata": {},
   "outputs": [
    {
     "name": "stdout",
     "output_type": "stream",
     "text": [
      "bands 4 rows 10560 columns 10560\n",
      "(10560, 10560, 4)\n"
     ]
    }
   ],
   "source": [
    "#set driver for geotiff\n",
    "driverTiff = gdal.GetDriverByName('GTiff')\n",
    "#open geotiff with gdal\n",
    "naip_ds = gdal.Open(naip_fn)\n",
    "#count the number of color bands in geotiff\n",
    "nbands = naip_ds.RasterCount\n",
    "#Create empty list\n",
    "band_data = []\n",
    "print('bands', naip_ds.RasterCount, 'rows', naip_ds.RasterYSize, 'columns', naip_ds.RasterXSize)\n",
    "\n",
    "#loop through the bands in nbands and append to empty band_data list\n",
    "for i in range(1, nbands+1):\n",
    "    band = naip_ds.GetRasterBand(i).ReadAsArray()\n",
    "    band_data.append(band)\n",
    "#stack arrays\n",
    "band_data = np.dstack(band_data)\n",
    "print(band_data.shape)\n",
    "\n"
   ]
  },
  {
   "cell_type": "code",
   "execution_count": 25,
   "metadata": {},
   "outputs": [],
   "source": [
    "#rescale band data\n",
    "img = exposure.rescale_intensity(band_data)"
   ]
  },
  {
   "cell_type": "code",
   "execution_count": 26,
   "metadata": {},
   "outputs": [],
   "source": [
    "#create segments\n",
    "segments = slic(img, n_segments=500000, compactness=0.1)"
   ]
  },
  {
   "cell_type": "code",
   "execution_count": 27,
   "metadata": {},
   "outputs": [],
   "source": [
    "#Save segments to raster\n",
    "segments_fn = 'data/segments.tif'\n",
    "segments_ds = driverTiff.Create(segments_fn, naip_ds.RasterXSize, naip_ds.RasterYSize, 1, gdal.GDT_Float32)\n",
    "segments_ds.SetGeoTransform(naip_ds.GetGeoTransform())\n",
    "segments_ds.SetProjection(naip_ds.GetProjectionRef())\n",
    "segments_ds.GetRasterBand(1).WriteArray(segments)\n",
    "segments_ds = None"
   ]
  },
  {
   "cell_type": "code",
   "execution_count": 32,
   "metadata": {},
   "outputs": [],
   "source": []
  },
  {
   "cell_type": "code",
   "execution_count": 33,
   "metadata": {},
   "outputs": [],
   "source": []
  },
  {
   "cell_type": "code",
   "execution_count": null,
   "metadata": {},
   "outputs": [],
   "source": []
  }
 ],
 "metadata": {
  "kernelspec": {
   "display_name": "Python 3",
   "language": "python",
   "name": "python3"
  },
  "language_info": {
   "codemirror_mode": {
    "name": "ipython",
    "version": 3
   },
   "file_extension": ".py",
   "mimetype": "text/x-python",
   "name": "python",
   "nbconvert_exporter": "python",
   "pygments_lexer": "ipython3",
   "version": "3.9.1"
  }
 },
 "nbformat": 4,
 "nbformat_minor": 4
}
