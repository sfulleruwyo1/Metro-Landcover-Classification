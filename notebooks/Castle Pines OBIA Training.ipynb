{
 "cells": [
  {
   "cell_type": "code",
   "execution_count": 1,
   "id": "absent-century",
   "metadata": {},
   "outputs": [],
   "source": [
    "import numpy as np\n",
    "import geopandas as gpd\n",
    "import pandas as pd"
   ]
  },
  {
   "cell_type": "code",
   "execution_count": 2,
   "id": "informed-tomato",
   "metadata": {},
   "outputs": [
    {
     "name": "stdout",
     "output_type": "stream",
     "text": [
      "class names ['road' 'roof' 'turf' 'water' 'conifer' 'scrub' 'native grass']\n",
      "class ids [1 2 3 4 5 6 7]\n",
      "gdf without ids    id  type                     geometry\n",
      "0   0  road  POINT (-104.89451 39.44095)\n",
      "1   0  road  POINT (-104.89414 39.44100)\n",
      "2   0  road  POINT (-104.89472 39.44136)\n",
      "3   0  road  POINT (-104.89592 39.44223)\n",
      "4   0  road  POINT (-104.89499 39.44217)\n",
      "gdf with ids    id  type                     geometry\n",
      "0   1  road  POINT (-104.89451 39.44095)\n",
      "1   1  road  POINT (-104.89414 39.44100)\n",
      "2   1  road  POINT (-104.89472 39.44136)\n",
      "3   1  road  POINT (-104.89592 39.44223)\n",
      "4   1  road  POINT (-104.89499 39.44217)\n",
      "gdf shape (281, 3) training shape (197, 3) test (84, 3)\n"
     ]
    }
   ],
   "source": [
    "#read in shapefile\n",
    "gdf = gpd.read_file('data/training.shp')\n",
    "\n",
    "#Get landcover types\n",
    "class_names = gdf['type'].unique()\n",
    "print('class names', class_names)\n",
    "\n",
    "#create a unique id\n",
    "class_ids = np.arange(class_names.size) + 1\n",
    "print('class ids', class_ids)\n",
    "\n",
    "# create a pandas data frame of the labels and ids and save to csv\n",
    "df = pd.DataFrame({'type': class_names, 'id': class_ids})\n",
    "df.to_csv('data/class_lookup.csv')\n",
    "print('gdf without ids', gdf.head())\n",
    "\n",
    "#add a new column to the geodataframe\n",
    "gdf['id'] = gdf['type'].map(dict(zip(class_names, class_ids)))\n",
    "print('gdf with ids', gdf.head())\n",
    "\n",
    "# split the truth data into training and test data sets and save each to a new shapefile\n",
    "gdf_train = gdf.sample(frac=0.7)\n",
    "gdf_test = gdf.drop(gdf_train.index)\n",
    "print('gdf shape', gdf.shape, 'training shape', gdf_train.shape, 'test', gdf_test.shape)\n",
    "gdf_train.to_file('data/train.shp')\n",
    "gdf_test.to_file('data/test.shp')"
   ]
  },
  {
   "cell_type": "code",
   "execution_count": null,
   "id": "binary-contrast",
   "metadata": {},
   "outputs": [],
   "source": []
  }
 ],
 "metadata": {
  "kernelspec": {
   "display_name": "Python 3",
   "language": "python",
   "name": "python3"
  },
  "language_info": {
   "codemirror_mode": {
    "name": "ipython",
    "version": 3
   },
   "file_extension": ".py",
   "mimetype": "text/x-python",
   "name": "python",
   "nbconvert_exporter": "python",
   "pygments_lexer": "ipython3",
   "version": "3.9.1"
  }
 },
 "nbformat": 4,
 "nbformat_minor": 5
}
