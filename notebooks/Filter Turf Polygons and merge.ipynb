{
 "cells": [
  {
   "cell_type": "code",
   "execution_count": 169,
   "id": "marine-temperature",
   "metadata": {},
   "outputs": [],
   "source": [
    "import numpy as np\n",
    "import geopandas as gpd\n",
    "import pandas as pd\n",
    "import os"
   ]
  },
  {
   "cell_type": "code",
   "execution_count": 170,
   "id": "accessory-cargo",
   "metadata": {},
   "outputs": [],
   "source": [
    "#Set File path holding shapefiles\n",
    "file = os.listdir(\"data/shapefile\")\n",
    "#set path for all files with .shp file type\n",
    "path = [os.path.join(\"data/shapefile\", i) for i in file if \".shp\" in i]\n",
    "\n",
    "#Create new geodata drame with concatenated shapefiles.  Merging all files into 1 geodata frame\n",
    "gdf = gpd.GeoDataFrame(pd.concat([gpd.read_file(i) for i in path], \n",
    "                        ignore_index=True), crs=gpd.read_file(path[0]).crs)\n",
    "\n"
   ]
  },
  {
   "cell_type": "code",
   "execution_count": 171,
   "id": "backed-shape",
   "metadata": {},
   "outputs": [],
   "source": [
    "#filter geodata frame byt vegeation type\n",
    "turf = gdf[gdf['type']=='turf']\n",
    "\n",
    "#dissolve polygons\n",
    "#turf_dissolve = turf.dissolve(by='type')\n",
    "turf_CO83CF = turf.to_crs(\"EPSG:2232\")"
   ]
  },
  {
   "cell_type": "code",
   "execution_count": 172,
   "id": "valuable-steps",
   "metadata": {},
   "outputs": [],
   "source": [
    "#load parcel polygons and convert to WGS84\n",
    "parcels = gpd.read_file('data/parcels.shp')\n",
    "parcels_CO83CF  = parcels.to_crs(\"EPSG:2232\")"
   ]
  },
  {
   "cell_type": "code",
   "execution_count": 173,
   "id": "earlier-replication",
   "metadata": {},
   "outputs": [],
   "source": [
    "clipped = gpd.clip(parcels_CO83CF, turf_CO83CF)"
   ]
  },
  {
   "cell_type": "code",
   "execution_count": 174,
   "id": "classified-wrong",
   "metadata": {},
   "outputs": [],
   "source": [
    "clipped['area']=clipped.geometry.area"
   ]
  },
  {
   "cell_type": "code",
   "execution_count": 175,
   "id": "accessory-thanks",
   "metadata": {},
   "outputs": [
    {
     "data": {
      "text/html": [
       "<div>\n",
       "<style scoped>\n",
       "    .dataframe tbody tr th:only-of-type {\n",
       "        vertical-align: middle;\n",
       "    }\n",
       "\n",
       "    .dataframe tbody tr th {\n",
       "        vertical-align: top;\n",
       "    }\n",
       "\n",
       "    .dataframe thead th {\n",
       "        text-align: right;\n",
       "    }\n",
       "</style>\n",
       "<table border=\"1\" class=\"dataframe\">\n",
       "  <thead>\n",
       "    <tr style=\"text-align: right;\">\n",
       "      <th></th>\n",
       "      <th>address</th>\n",
       "      <th>id</th>\n",
       "      <th>geometry</th>\n",
       "      <th>area</th>\n",
       "    </tr>\n",
       "  </thead>\n",
       "  <tbody>\n",
       "    <tr>\n",
       "      <th>0</th>\n",
       "      <td>302 CASTLE PINES DR SOUTH</td>\n",
       "      <td>1</td>\n",
       "      <td>MULTIPOLYGON (((3173294.000 1585004.500, 31732...</td>\n",
       "      <td>1279.858929</td>\n",
       "    </tr>\n",
       "    <tr>\n",
       "      <th>1</th>\n",
       "      <td>391 STARMINE PL</td>\n",
       "      <td>2</td>\n",
       "      <td>MULTIPOLYGON (((3173889.000 1585016.000, 31738...</td>\n",
       "      <td>563.223228</td>\n",
       "    </tr>\n",
       "    <tr>\n",
       "      <th>2</th>\n",
       "      <td>4537 SILVER DALE CT</td>\n",
       "      <td>3</td>\n",
       "      <td>MULTIPOLYGON (((3173439.000 1582344.500, 31734...</td>\n",
       "      <td>883.085604</td>\n",
       "    </tr>\n",
       "    <tr>\n",
       "      <th>4</th>\n",
       "      <td>4 BOREALIS WAY</td>\n",
       "      <td>5</td>\n",
       "      <td>MULTIPOLYGON (((3172336.438 1586847.500, 31723...</td>\n",
       "      <td>802.323934</td>\n",
       "    </tr>\n",
       "    <tr>\n",
       "      <th>5</th>\n",
       "      <td>655 RUBY TRUST DR</td>\n",
       "      <td>6</td>\n",
       "      <td>MULTIPOLYGON (((3173030.500 1580174.500, 31730...</td>\n",
       "      <td>2868.543115</td>\n",
       "    </tr>\n",
       "  </tbody>\n",
       "</table>\n",
       "</div>"
      ],
      "text/plain": [
       "                     address  id  \\\n",
       "0  302 CASTLE PINES DR SOUTH   1   \n",
       "1            391 STARMINE PL   2   \n",
       "2        4537 SILVER DALE CT   3   \n",
       "4             4 BOREALIS WAY   5   \n",
       "5          655 RUBY TRUST DR   6   \n",
       "\n",
       "                                            geometry         area  \n",
       "0  MULTIPOLYGON (((3173294.000 1585004.500, 31732...  1279.858929  \n",
       "1  MULTIPOLYGON (((3173889.000 1585016.000, 31738...   563.223228  \n",
       "2  MULTIPOLYGON (((3173439.000 1582344.500, 31734...   883.085604  \n",
       "4  MULTIPOLYGON (((3172336.438 1586847.500, 31723...   802.323934  \n",
       "5  MULTIPOLYGON (((3173030.500 1580174.500, 31730...  2868.543115  "
      ]
     },
     "execution_count": 175,
     "metadata": {},
     "output_type": "execute_result"
    }
   ],
   "source": [
    "clipped.head()"
   ]
  },
  {
   "cell_type": "code",
   "execution_count": 176,
   "id": "classical-piano",
   "metadata": {},
   "outputs": [],
   "source": [
    "dis_clip = clipped.dissolve(by='id', aggfunc='sum')"
   ]
  },
  {
   "cell_type": "code",
   "execution_count": 177,
   "id": "conceptual-weapon",
   "metadata": {},
   "outputs": [
    {
     "data": {
      "text/html": [
       "<div>\n",
       "<style scoped>\n",
       "    .dataframe tbody tr th:only-of-type {\n",
       "        vertical-align: middle;\n",
       "    }\n",
       "\n",
       "    .dataframe tbody tr th {\n",
       "        vertical-align: top;\n",
       "    }\n",
       "\n",
       "    .dataframe thead th {\n",
       "        text-align: right;\n",
       "    }\n",
       "</style>\n",
       "<table border=\"1\" class=\"dataframe\">\n",
       "  <thead>\n",
       "    <tr style=\"text-align: right;\">\n",
       "      <th></th>\n",
       "      <th>geometry</th>\n",
       "      <th>area</th>\n",
       "    </tr>\n",
       "    <tr>\n",
       "      <th>id</th>\n",
       "      <th></th>\n",
       "      <th></th>\n",
       "    </tr>\n",
       "  </thead>\n",
       "  <tbody>\n",
       "    <tr>\n",
       "      <th>1</th>\n",
       "      <td>MULTIPOLYGON (((3173293.596 1585004.500, 31732...</td>\n",
       "      <td>1279.858929</td>\n",
       "    </tr>\n",
       "    <tr>\n",
       "      <th>2</th>\n",
       "      <td>MULTIPOLYGON (((3173890.000 1585017.000, 31738...</td>\n",
       "      <td>563.223228</td>\n",
       "    </tr>\n",
       "    <tr>\n",
       "      <th>3</th>\n",
       "      <td>MULTIPOLYGON (((3173438.000 1582345.500, 31734...</td>\n",
       "      <td>883.085604</td>\n",
       "    </tr>\n",
       "    <tr>\n",
       "      <th>5</th>\n",
       "      <td>MULTIPOLYGON (((3172337.500 1586849.000, 31723...</td>\n",
       "      <td>802.323934</td>\n",
       "    </tr>\n",
       "    <tr>\n",
       "      <th>6</th>\n",
       "      <td>MULTIPOLYGON (((3173032.000 1580174.500, 31730...</td>\n",
       "      <td>2868.543115</td>\n",
       "    </tr>\n",
       "  </tbody>\n",
       "</table>\n",
       "</div>"
      ],
      "text/plain": [
       "                                             geometry         area\n",
       "id                                                                \n",
       "1   MULTIPOLYGON (((3173293.596 1585004.500, 31732...  1279.858929\n",
       "2   MULTIPOLYGON (((3173890.000 1585017.000, 31738...   563.223228\n",
       "3   MULTIPOLYGON (((3173438.000 1582345.500, 31734...   883.085604\n",
       "5   MULTIPOLYGON (((3172337.500 1586849.000, 31723...   802.323934\n",
       "6   MULTIPOLYGON (((3173032.000 1580174.500, 31730...  2868.543115"
      ]
     },
     "execution_count": 177,
     "metadata": {},
     "output_type": "execute_result"
    }
   ],
   "source": [
    "dis_clip.head()"
   ]
  },
  {
   "cell_type": "code",
   "execution_count": 178,
   "id": "compliant-uzbekistan",
   "metadata": {},
   "outputs": [],
   "source": [
    "dis_clip.to_file(\"data/turf_polygons.json\", driver=\"GeoJSON\")"
   ]
  },
  {
   "cell_type": "code",
   "execution_count": 179,
   "id": "oriental-going",
   "metadata": {},
   "outputs": [],
   "source": [
    "dis_clip.drop(columns=['geometry'], inplace=True)\n",
    "parcel_join = parcels_CO83CF.merge(dis_clip, on='id', how='left')"
   ]
  },
  {
   "cell_type": "code",
   "execution_count": 180,
   "id": "involved-replica",
   "metadata": {},
   "outputs": [
    {
     "data": {
      "text/html": [
       "<div>\n",
       "<style scoped>\n",
       "    .dataframe tbody tr th:only-of-type {\n",
       "        vertical-align: middle;\n",
       "    }\n",
       "\n",
       "    .dataframe tbody tr th {\n",
       "        vertical-align: top;\n",
       "    }\n",
       "\n",
       "    .dataframe thead th {\n",
       "        text-align: right;\n",
       "    }\n",
       "</style>\n",
       "<table border=\"1\" class=\"dataframe\">\n",
       "  <thead>\n",
       "    <tr style=\"text-align: right;\">\n",
       "      <th></th>\n",
       "      <th>address</th>\n",
       "      <th>id</th>\n",
       "      <th>geometry</th>\n",
       "      <th>area</th>\n",
       "    </tr>\n",
       "  </thead>\n",
       "  <tbody>\n",
       "    <tr>\n",
       "      <th>0</th>\n",
       "      <td>302 CASTLE PINES DR SOUTH</td>\n",
       "      <td>1</td>\n",
       "      <td>POLYGON ((3173554.294 1584793.537, 3173341.527...</td>\n",
       "      <td>1279.858929</td>\n",
       "    </tr>\n",
       "    <tr>\n",
       "      <th>1</th>\n",
       "      <td>391 STARMINE PL</td>\n",
       "      <td>2</td>\n",
       "      <td>POLYGON ((3174051.587 1584979.303, 3173746.736...</td>\n",
       "      <td>563.223228</td>\n",
       "    </tr>\n",
       "    <tr>\n",
       "      <th>2</th>\n",
       "      <td>4537 SILVER DALE CT</td>\n",
       "      <td>3</td>\n",
       "      <td>POLYGON ((3173535.346 1582334.968, 3173517.596...</td>\n",
       "      <td>883.085604</td>\n",
       "    </tr>\n",
       "    <tr>\n",
       "      <th>3</th>\n",
       "      <td>3128 RAMSHORN DR</td>\n",
       "      <td>4</td>\n",
       "      <td>POLYGON ((3166418.574 1585769.111, 3166418.074...</td>\n",
       "      <td>NaN</td>\n",
       "    </tr>\n",
       "    <tr>\n",
       "      <th>4</th>\n",
       "      <td>4 BOREALIS WAY</td>\n",
       "      <td>5</td>\n",
       "      <td>POLYGON ((3172722.590 1586854.849, 3172676.340...</td>\n",
       "      <td>802.323934</td>\n",
       "    </tr>\n",
       "  </tbody>\n",
       "</table>\n",
       "</div>"
      ],
      "text/plain": [
       "                     address  id  \\\n",
       "0  302 CASTLE PINES DR SOUTH   1   \n",
       "1            391 STARMINE PL   2   \n",
       "2        4537 SILVER DALE CT   3   \n",
       "3           3128 RAMSHORN DR   4   \n",
       "4             4 BOREALIS WAY   5   \n",
       "\n",
       "                                            geometry         area  \n",
       "0  POLYGON ((3173554.294 1584793.537, 3173341.527...  1279.858929  \n",
       "1  POLYGON ((3174051.587 1584979.303, 3173746.736...   563.223228  \n",
       "2  POLYGON ((3173535.346 1582334.968, 3173517.596...   883.085604  \n",
       "3  POLYGON ((3166418.574 1585769.111, 3166418.074...          NaN  \n",
       "4  POLYGON ((3172722.590 1586854.849, 3172676.340...   802.323934  "
      ]
     },
     "execution_count": 180,
     "metadata": {},
     "output_type": "execute_result"
    }
   ],
   "source": [
    "parcel_join.head()"
   ]
  },
  {
   "cell_type": "code",
   "execution_count": 185,
   "id": "automatic-technology",
   "metadata": {},
   "outputs": [],
   "source": [
    "parcel_join = parcel_join.to_crs(\"EPSG:4326\")\n",
    "parcel_join.to_file(\"data/parcels_with_turf_area.json\", driver=\"GeoJSON\")"
   ]
  },
  {
   "cell_type": "code",
   "execution_count": null,
   "id": "static-plane",
   "metadata": {},
   "outputs": [],
   "source": []
  }
 ],
 "metadata": {
  "kernelspec": {
   "display_name": "Python 3",
   "language": "python",
   "name": "python3"
  },
  "language_info": {
   "codemirror_mode": {
    "name": "ipython",
    "version": 3
   },
   "file_extension": ".py",
   "mimetype": "text/x-python",
   "name": "python",
   "nbconvert_exporter": "python",
   "pygments_lexer": "ipython3",
   "version": "3.9.1"
  }
 },
 "nbformat": 4,
 "nbformat_minor": 5
}
